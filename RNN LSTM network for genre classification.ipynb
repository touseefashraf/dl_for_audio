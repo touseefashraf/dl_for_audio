{
 "cells": [
  {
   "cell_type": "markdown",
   "metadata": {},
   "source": [
    "RNN LSTM network for genre classification"
   ]
  },
  {
   "cell_type": "code",
   "execution_count": 1,
   "metadata": {},
   "outputs": [],
   "source": [
    "import json\n",
    "import numpy as np\n",
    "from sklearn.model_selection import train_test_split\n",
    "import tensorflow.keras as keras\n",
    "import matplotlib.pyplot as plt"
   ]
  },
  {
   "cell_type": "code",
   "execution_count": 2,
   "metadata": {},
   "outputs": [],
   "source": [
    "DATA_PATH = \"data.json\"\n",
    "\n",
    "\n",
    "def load_data(data_path):\n",
    "    \"\"\"Loads training dataset from json file.\n",
    "        :param data_path (str): Path to json file containing data\n",
    "        :return X (ndarray): Inputs\n",
    "        :return y (ndarray): Targets\n",
    "    \"\"\"\n",
    "\n",
    "    with open(data_path, \"r\") as fp:\n",
    "        data = json.load(fp)\n",
    "\n",
    "    X = np.array(data[\"mfcc\"])\n",
    "    y = np.array(data[\"labels\"])\n",
    "    return X, y"
   ]
  },
  {
   "cell_type": "code",
   "execution_count": 3,
   "metadata": {},
   "outputs": [],
   "source": [
    "def plot_history(history):\n",
    "    \"\"\"Plots accuracy/loss for training/validation set as a function of the epochs\n",
    "        :param history: Training history of model\n",
    "        :return:\n",
    "    \"\"\"\n",
    "\n",
    "    fig, axs = plt.subplots(2)\n",
    "\n",
    "    # create accuracy sublpot\n",
    "    axs[0].plot(history.history[\"accuracy\"], label=\"train accuracy\")\n",
    "    axs[0].plot(history.history[\"val_accuracy\"], label=\"test accuracy\")\n",
    "    axs[0].set_ylabel(\"Accuracy\")\n",
    "    axs[0].legend(loc=\"lower right\")\n",
    "    axs[0].set_title(\"Accuracy eval\")\n",
    "\n",
    "    # create error sublpot\n",
    "    axs[1].plot(history.history[\"loss\"], label=\"train error\")\n",
    "    axs[1].plot(history.history[\"val_loss\"], label=\"test error\")\n",
    "    axs[1].set_ylabel(\"Error\")\n",
    "    axs[1].set_xlabel(\"Epoch\")\n",
    "    axs[1].legend(loc=\"upper right\")\n",
    "    axs[1].set_title(\"Error eval\")\n",
    "\n",
    "    plt.show()"
   ]
  },
  {
   "cell_type": "code",
   "execution_count": 4,
   "metadata": {},
   "outputs": [],
   "source": [
    "def prepare_datasets(test_size, validation_size):\n",
    "    \"\"\"Loads data and splits it into train, validation and test sets.\n",
    "    :param test_size (float): Value in [0, 1] indicating percentage of data set to allocate to test split\n",
    "    :param validation_size (float): Value in [0, 1] indicating percentage of train set to allocate to validation split\n",
    "    :return X_train (ndarray): Input training set\n",
    "    :return X_validation (ndarray): Input validation set\n",
    "    :return X_test (ndarray): Input test set\n",
    "    :return y_train (ndarray): Target training set\n",
    "    :return y_validation (ndarray): Target validation set\n",
    "    :return y_test (ndarray): Target test set\n",
    "    \"\"\"\n",
    "\n",
    "    # load data\n",
    "    X, y = load_data(DATA_PATH)\n",
    "\n",
    "    # create train, validation and test split\n",
    "    X_train, X_test, y_train, y_test = train_test_split(X, y, test_size=test_size)\n",
    "    X_train, X_validation, y_train, y_validation = train_test_split(X_train, y_train, test_size=validation_size)\n",
    "\n",
    "    return X_train, X_validation, X_test, y_train, y_validation, y_test"
   ]
  },
  {
   "cell_type": "code",
   "execution_count": 5,
   "metadata": {},
   "outputs": [],
   "source": [
    "def build_model(input_shape):\n",
    "    \"\"\"Generates RNN-LSTM model\n",
    "    :param input_shape (tuple): Shape of input set\n",
    "    :return model: RNN-LSTM model\n",
    "    \"\"\"\n",
    "\n",
    "    # build network topology\n",
    "    model = keras.Sequential()\n",
    "\n",
    "    # 2 LSTM layers\n",
    "    model.add(keras.layers.LSTM(64, input_shape=input_shape, return_sequences=True))\n",
    "    model.add(keras.layers.LSTM(64))\n",
    "\n",
    "    # dense layer\n",
    "    model.add(keras.layers.Dense(64, activation='relu'))\n",
    "    model.add(keras.layers.Dropout(0.3))\n",
    "\n",
    "    # output layer\n",
    "    model.add(keras.layers.Dense(4, activation='softmax'))\n",
    "\n",
    "    return model"
   ]
  },
  {
   "cell_type": "code",
   "execution_count": 6,
   "metadata": {},
   "outputs": [],
   "source": [
    "if __name__ == \"__main__\":\n",
    "    \n",
    "    # get train, validation, test splits\n",
    "    X_train, X_validation, X_test, y_train, y_validation, y_test = prepare_datasets(0.25, 0.2)"
   ]
  },
  {
   "cell_type": "code",
   "execution_count": 7,
   "metadata": {},
   "outputs": [],
   "source": [
    "# create network\n",
    "input_shape = (X_train.shape[1], X_train.shape[2]) # 130, 13\n",
    "model = build_model(input_shape)"
   ]
  },
  {
   "cell_type": "code",
   "execution_count": 8,
   "metadata": {},
   "outputs": [],
   "source": [
    "    # compile model\n",
    "optimiser = keras.optimizers.Adam(learning_rate=0.0001)\n",
    "model.compile(optimizer=optimiser,\n",
    "            loss='sparse_categorical_crossentropy',\n",
    "            metrics=['accuracy'])"
   ]
  },
  {
   "cell_type": "code",
   "execution_count": 9,
   "metadata": {},
   "outputs": [
    {
     "name": "stdout",
     "output_type": "stream",
     "text": [
      "Model: \"sequential\"\n",
      "_________________________________________________________________\n",
      " Layer (type)                Output Shape              Param #   \n",
      "=================================================================\n",
      " lstm (LSTM)                 (None, 130, 64)           19968     \n",
      "                                                                 \n",
      " lstm_1 (LSTM)               (None, 64)                33024     \n",
      "                                                                 \n",
      " dense (Dense)               (None, 64)                4160      \n",
      "                                                                 \n",
      " dropout (Dropout)           (None, 64)                0         \n",
      "                                                                 \n",
      " dense_1 (Dense)             (None, 4)                 260       \n",
      "                                                                 \n",
      "=================================================================\n",
      "Total params: 57,412\n",
      "Trainable params: 57,412\n",
      "Non-trainable params: 0\n",
      "_________________________________________________________________\n"
     ]
    }
   ],
   "source": [
    "model.summary()"
   ]
  },
  {
   "cell_type": "code",
   "execution_count": 10,
   "metadata": {},
   "outputs": [
    {
     "name": "stdout",
     "output_type": "stream",
     "text": [
      "Epoch 1/30\n",
      "75/75 [==============================] - 24s 208ms/step - loss: 1.3559 - accuracy: 0.3287 - val_loss: 1.2803 - val_accuracy: 0.5017\n",
      "Epoch 2/30\n",
      "75/75 [==============================] - 14s 188ms/step - loss: 1.2120 - accuracy: 0.5119 - val_loss: 1.1294 - val_accuracy: 0.5667\n",
      "Epoch 3/30\n",
      "75/75 [==============================] - 13s 175ms/step - loss: 1.0599 - accuracy: 0.5803 - val_loss: 0.9866 - val_accuracy: 0.6133\n",
      "Epoch 4/30\n",
      "75/75 [==============================] - 15s 194ms/step - loss: 0.9002 - accuracy: 0.6525 - val_loss: 0.8422 - val_accuracy: 0.6650\n",
      "Epoch 5/30\n",
      "75/75 [==============================] - 14s 188ms/step - loss: 0.7763 - accuracy: 0.6955 - val_loss: 0.7525 - val_accuracy: 0.6917\n",
      "Epoch 6/30\n",
      "75/75 [==============================] - 15s 201ms/step - loss: 0.6657 - accuracy: 0.7484 - val_loss: 0.7093 - val_accuracy: 0.7000\n",
      "Epoch 7/30\n",
      "75/75 [==============================] - 15s 199ms/step - loss: 0.5881 - accuracy: 0.7935 - val_loss: 0.6968 - val_accuracy: 0.7383\n",
      "Epoch 8/30\n",
      "75/75 [==============================] - 15s 201ms/step - loss: 0.5447 - accuracy: 0.8135 - val_loss: 0.6863 - val_accuracy: 0.7300\n",
      "Epoch 9/30\n",
      "75/75 [==============================] - 13s 178ms/step - loss: 0.5180 - accuracy: 0.8244 - val_loss: 0.6679 - val_accuracy: 0.7383\n",
      "Epoch 10/30\n",
      "75/75 [==============================] - 14s 186ms/step - loss: 0.4929 - accuracy: 0.8340 - val_loss: 0.6444 - val_accuracy: 0.7483\n",
      "Epoch 11/30\n",
      "75/75 [==============================] - 12s 153ms/step - loss: 0.4541 - accuracy: 0.8498 - val_loss: 0.6323 - val_accuracy: 0.7533\n",
      "Epoch 12/30\n",
      "75/75 [==============================] - 13s 175ms/step - loss: 0.4306 - accuracy: 0.8615 - val_loss: 0.6343 - val_accuracy: 0.7483\n",
      "Epoch 13/30\n",
      "75/75 [==============================] - 12s 163ms/step - loss: 0.4150 - accuracy: 0.8619 - val_loss: 0.6382 - val_accuracy: 0.7550\n",
      "Epoch 14/30\n",
      "75/75 [==============================] - 12s 161ms/step - loss: 0.4043 - accuracy: 0.8648 - val_loss: 0.6125 - val_accuracy: 0.7733\n",
      "Epoch 15/30\n",
      "75/75 [==============================] - 12s 162ms/step - loss: 0.3809 - accuracy: 0.8744 - val_loss: 0.6247 - val_accuracy: 0.7717\n",
      "Epoch 16/30\n",
      "75/75 [==============================] - 12s 161ms/step - loss: 0.3471 - accuracy: 0.8915 - val_loss: 0.5921 - val_accuracy: 0.7783\n",
      "Epoch 17/30\n",
      "75/75 [==============================] - 12s 163ms/step - loss: 0.3477 - accuracy: 0.8882 - val_loss: 0.5933 - val_accuracy: 0.7900\n",
      "Epoch 18/30\n",
      "75/75 [==============================] - 12s 162ms/step - loss: 0.3301 - accuracy: 0.8957 - val_loss: 0.5942 - val_accuracy: 0.7983\n",
      "Epoch 19/30\n",
      "75/75 [==============================] - 12s 161ms/step - loss: 0.3076 - accuracy: 0.9036 - val_loss: 0.5842 - val_accuracy: 0.8000\n",
      "Epoch 20/30\n",
      "75/75 [==============================] - 12s 164ms/step - loss: 0.2844 - accuracy: 0.9120 - val_loss: 0.6019 - val_accuracy: 0.7900\n",
      "Epoch 21/30\n",
      "75/75 [==============================] - 15s 202ms/step - loss: 0.2871 - accuracy: 0.9111 - val_loss: 0.5800 - val_accuracy: 0.8017\n",
      "Epoch 22/30\n",
      "75/75 [==============================] - 17s 226ms/step - loss: 0.2800 - accuracy: 0.9157 - val_loss: 0.6432 - val_accuracy: 0.7967\n",
      "Epoch 23/30\n",
      "75/75 [==============================] - 19s 247ms/step - loss: 0.2950 - accuracy: 0.9086 - val_loss: 0.5608 - val_accuracy: 0.8133\n",
      "Epoch 24/30\n",
      "75/75 [==============================] - 17s 229ms/step - loss: 0.2518 - accuracy: 0.9237 - val_loss: 0.5735 - val_accuracy: 0.8017\n",
      "Epoch 25/30\n",
      "75/75 [==============================] - 17s 220ms/step - loss: 0.2583 - accuracy: 0.9182 - val_loss: 0.5609 - val_accuracy: 0.8017\n",
      "Epoch 26/30\n",
      "75/75 [==============================] - 15s 204ms/step - loss: 0.2435 - accuracy: 0.9266 - val_loss: 0.5784 - val_accuracy: 0.8083\n",
      "Epoch 27/30\n",
      "75/75 [==============================] - 18s 242ms/step - loss: 0.2333 - accuracy: 0.9303 - val_loss: 0.6273 - val_accuracy: 0.8067\n",
      "Epoch 28/30\n",
      "75/75 [==============================] - 18s 245ms/step - loss: 0.2103 - accuracy: 0.9391 - val_loss: 0.6003 - val_accuracy: 0.8083\n",
      "Epoch 29/30\n",
      "75/75 [==============================] - 16s 208ms/step - loss: 0.2237 - accuracy: 0.9312 - val_loss: 0.5617 - val_accuracy: 0.8150\n",
      "Epoch 30/30\n",
      "75/75 [==============================] - 14s 193ms/step - loss: 0.2097 - accuracy: 0.9412 - val_loss: 0.6012 - val_accuracy: 0.8050\n"
     ]
    }
   ],
   "source": [
    "    # train model\n",
    "history = model.fit(X_train, y_train, validation_data=(X_validation, y_validation), batch_size=32, epochs=30)"
   ]
  },
  {
   "cell_type": "code",
   "execution_count": 11,
   "metadata": {},
   "outputs": [
    {
     "data": {
      "image/png": "[encoded data removed]",
      "text/plain": [
       "<Figure size 432x288 with 2 Axes>"
      ]
     },
     "metadata": {
      "needs_background": "light"
     },
     "output_type": "display_data"
    }
   ],
   "source": [
    "    # plot accuracy/error for training and validation\n",
    "plot_history(history)"
   ]
  },
  {
   "cell_type": "code",
   "execution_count": 12,
   "metadata": {},
   "outputs": [
    {
     "name": "stdout",
     "output_type": "stream",
     "text": [
      "32/32 - 2s - loss: 0.4484 - accuracy: 0.8590 - 2s/epoch - 58ms/step\n",
      "\n",
      "Test accuracy: 0.859000027179718\n"
     ]
    }
   ],
   "source": [
    "    # evaluate model on test set\n",
    "test_loss, test_acc = model.evaluate(X_test, y_test, verbose=2)\n",
    "print('\\nTest accuracy:', test_acc)"
   ]
  }
 ],
 "metadata": {
  "kernelspec": {
   "display_name": "Python 3.9.2 64-bit",
   "language": "python",
   "name": "python3"
  },
  "language_info": {
   "codemirror_mode": {
    "name": "ipython",
    "version": 3
   },
   "file_extension": ".py",
   "mimetype": "text/x-python",
   "name": "python",
   "nbconvert_exporter": "python",
   "pygments_lexer": "ipython3",
   "version": "3.9.2"
  },
  "orig_nbformat": 4,
  "vscode": {
   "interpreter": {
    "hash": "872297596d866abac5f8ee2e50e2eeb543af31a9f9c1bd6008203e0c51f332d3"
   }
  }
 },
 "nbformat": 4,
 "nbformat_minor": 2
}
