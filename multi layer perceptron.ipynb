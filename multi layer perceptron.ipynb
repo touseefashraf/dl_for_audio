{
 "cells": [
  {
   "cell_type": "code",
   "execution_count": 7,
   "metadata": {},
   "outputs": [],
   "source": [
    "import numpy as np\n"
   ]
  },
  {
   "cell_type": "code",
   "execution_count": 8,
   "metadata": {},
   "outputs": [],
   "source": [
    "class MLP:\n",
    "    def __init__(self,num_in=3,num_hid=[3,5],num_out=2):\n",
    "        self.num_input=num_in\n",
    "        self.num_hidden=num_hid\n",
    "        self.num_outputs=num_out\n",
    "        \n",
    "    # this list represent the number of neuronrs in a layer \n",
    "        layers=[self.num_input]+self.num_hidden+[self.num_outputs]\n",
    "\n",
    "\n",
    "        # random weights \n",
    "        self.weights=[]\n",
    "        for i in range(len(layers)-1):\n",
    "            # we want a matrix w of weights with diminsion number of incoming neuron rows and next layer neuron colums \n",
    "            w=np.random.rand(layers[i],layers[i+1])\n",
    "            self.weights.append(w)\n",
    "            \n",
    "    def forward_propagation(self,inputs):\n",
    "        activation=inputs\n",
    "        \n",
    "        for w in self.weights:\n",
    "            net=np.dot(activation,w)\n",
    "            \n",
    "            activation=self.sigmoid(net)\n",
    "        return activation\n",
    "    \n",
    "    def sigmoid(self,inp):\n",
    "        return 1/(1+np.exp(-inp)) \n",
    "    "
   ]
  },
  {
   "cell_type": "code",
   "execution_count": 9,
   "metadata": {},
   "outputs": [
    {
     "name": "stdout",
     "output_type": "stream",
     "text": [
      "The input was [0.17071261 0.23997306 0.53447818].\n",
      "The output is [0.87685692 0.87671034]\n"
     ]
    }
   ],
   "source": [
    "if __name__ == '__main__':\n",
    "    \n",
    "    mlp=MLP()\n",
    "    \n",
    "    inputs=np.random.rand(mlp.num_input)\n",
    "    \n",
    "    outputs=mlp.forward_propagation(inputs)\n",
    "    \n",
    "    print('The input was {}.'.format(inputs))\n",
    "    \n",
    "    print(f'The output is {outputs}')"
   ]
  }
 ],
 "metadata": {
  "kernelspec": {
   "display_name": "Python 3.9.2 64-bit",
   "language": "python",
   "name": "python3"
  },
  "language_info": {
   "codemirror_mode": {
    "name": "ipython",
    "version": 3
   },
   "file_extension": ".py",
   "mimetype": "text/x-python",
   "name": "python",
   "nbconvert_exporter": "python",
   "pygments_lexer": "ipython3",
   "version": "3.9.2"
  },
  "orig_nbformat": 4,
  "vscode": {
   "interpreter": {
    "hash": "872297596d866abac5f8ee2e50e2eeb543af31a9f9c1bd6008203e0c51f332d3"
   }
  }
 },
 "nbformat": 4,
 "nbformat_minor": 2
}
