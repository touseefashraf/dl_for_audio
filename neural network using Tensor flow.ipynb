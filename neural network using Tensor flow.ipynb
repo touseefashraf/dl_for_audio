{
 "cells": [
  {
   "cell_type": "markdown",
   "metadata": {},
   "source": [
    "Implement a simple NN using TensorFlow \n",
    "Steps to follow:\n",
    "1.Build modal\n",
    "2.Compile modal\n",
    "3.Train modal\n",
    "4.Evaluate modal\n",
    "5.Train modal"
   ]
  },
  {
   "cell_type": "code",
   "execution_count": 16,
   "metadata": {},
   "outputs": [],
   "source": [
    "import numpy as np\n",
    "from random import random\n",
    "from sklearn.model_selection import train_test_split"
   ]
  },
  {
   "cell_type": "code",
   "execution_count": 15,
   "metadata": {},
   "outputs": [
    {
     "name": "stdout",
     "output_type": "stream",
     "text": [
      "(2000, 2)\n",
      "(2000, 1)\n"
     ]
    }
   ],
   "source": [
    "# created a data set of random numbers 2 columns of 2000 numbers \n",
    "x=np.array([[ random()/2 for _ in range(2)] for _ in range(2000)])\n",
    "# added the 2 number in a row save its result as y output \n",
    "# y= np.array([[i[0] + i[1]] for i in x])\n",
    "y= np.sum(x,axis=1).reshape(2000,1)\n",
    "print(np.shape(x))\n",
    "print(np.shape(y))\n"
   ]
  },
  {
   "cell_type": "code",
   "execution_count": null,
   "metadata": {},
   "outputs": [],
   "source": [
    "# now we want to split our data to training and test data set \n",
    "x_train, x_test,y_train,y_test=train_test_split(x,y,test_size=0.3)"
   ]
  },
  {
   "cell_type": "code",
   "execution_count": 17,
   "metadata": {},
   "outputs": [],
   "source": [
    "# we can make function of it \n",
    "def dataset_generator(num_samples,test_size):\n",
    "    x=np.array([[ random()/2 for _ in range(2)] for _ in range(num_samples)])\n",
    "    # added the 2 number in a row save its result as y output \n",
    "    # y= np.array([[i[0] + i[1]] for i in x])\n",
    "    y= np.sum(x,axis=1).reshape(num_samples,1)\n",
    "    x_train, x_test,y_train,y_test=train_test_split(x,y,test_size=test_size)\n",
    "    return x_train, x_test,y_train,y_test\n",
    "    \n",
    "    "
   ]
  },
  {
   "cell_type": "code",
   "execution_count": 19,
   "metadata": {},
   "outputs": [
    {
     "name": "stdout",
     "output_type": "stream",
     "text": [
      "tarining set x[[0.0712407  0.14805159]\n",
      " [0.49467242 0.06454525]\n",
      " [0.16802164 0.35370094]]\n",
      "tarining set y[[0.2192923 ]\n",
      " [0.55921767]\n",
      " [0.52172258]]\n",
      "test set x[[0.44599124 0.09767193]\n",
      " [0.21095638 0.13322552]]\n",
      "test set y[[0.54366318]\n",
      " [0.3441819 ]]\n"
     ]
    }
   ],
   "source": [
    "# calling the dataset function \n",
    "if __name__ == \"__main__\":\n",
    "    x_train, x_test,y_train,y_test=dataset_generator(5,0.3)\n",
    "    print(f'tarining set x{x_train}')\n",
    "    print(f'tarining set y{y_train}')\n",
    "    print(f'test set x{x_test}')\n",
    "    print(f'test set y{y_test}')"
   ]
  }
 ],
 "metadata": {
  "kernelspec": {
   "display_name": "Python 3.9.2 64-bit",
   "language": "python",
   "name": "python3"
  },
  "language_info": {
   "codemirror_mode": {
    "name": "ipython",
    "version": 3
   },
   "file_extension": ".py",
   "mimetype": "text/x-python",
   "name": "python",
   "nbconvert_exporter": "python",
   "pygments_lexer": "ipython3",
   "version": "3.9.2"
  },
  "orig_nbformat": 4,
  "vscode": {
   "interpreter": {
    "hash": "872297596d866abac5f8ee2e50e2eeb543af31a9f9c1bd6008203e0c51f332d3"
   }
  }
 },
 "nbformat": 4,
 "nbformat_minor": 2
}
