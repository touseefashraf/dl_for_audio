{
 "cells": [
  {
   "cell_type": "markdown",
   "metadata": {},
   "source": [
    "Implement a simple NN using TensorFlow \n",
    "Steps to follow:\n",
    "1.Build modal\n",
    "2.Compile modal\n",
    "3.Train modal\n",
    "4.Evaluate modal\n",
    "5.Train modal"
   ]
  },
  {
   "cell_type": "code",
   "execution_count": null,
   "metadata": {},
   "outputs": [],
   "source": []
  }
 ],
 "metadata": {
  "language_info": {
   "name": "python"
  },
  "orig_nbformat": 4
 },
 "nbformat": 4,
 "nbformat_minor": 2
}
