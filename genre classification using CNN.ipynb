{
 "cells": [
  {
   "cell_type": "code",
   "execution_count": 4,
   "metadata": {},
   "outputs": [],
   "source": [
    "import json\n",
    "import numpy as np\n",
    "from sklearn.model_selection import train_test_split\n",
    "import tensorflow.keras as keras\n",
    "import matplotlib.pyplot as plt"
   ]
  },
  {
   "cell_type": "code",
   "execution_count": 5,
   "metadata": {},
   "outputs": [],
   "source": [
    "DATA_PATH = \"data.json\"\n",
    "\n",
    "def load_data(data_path):\n",
    "    \"\"\"Loads training dataset from json file.\n",
    "        :param data_path (str): Path to json file containing data\n",
    "        :return X (ndarray): Inputs\n",
    "        :return y (ndarray): Targets\n",
    "    \"\"\"\n",
    "\n",
    "    with open(data_path, \"r\") as fp:\n",
    "        data = json.load(fp)\n",
    "\n",
    "    # convert lists to numpy arrays\n",
    "    X = np.array(data[\"mfcc\"])\n",
    "    y = np.array(data[\"labels\"])\n",
    "    \n",
    "\n",
    "    print(\"Data succesfully loaded!\")\n",
    "\n",
    "    return  X, y"
   ]
  },
  {
   "cell_type": "code",
   "execution_count": 6,
   "metadata": {},
   "outputs": [],
   "source": [
    "def plot_history(h):\n",
    "    plt.subplot(1,2,1)\n",
    "    plt.title('Train Accuracy')\n",
    "    plt.plot(h.history['accuracy'])\n",
    "    plt.subplot(1,2,2)\n",
    "    plt.title('Test Accuracy')\n",
    "    plt.plot(h.history['val_accuracy'])\n",
    "    plt.show()\n",
    "    \n",
    "    plt.title('comparision of train and test accuracy')\n",
    "    \n",
    "    plt.plot(h.history['accuracy'],label='train ')\n",
    "    plt.plot(h.history['val_accuracy'],label='test')\n",
    "    plt.legend()\n",
    "    plt.show()\n",
    "    \n",
    "    plt.subplot(1,2,1)\n",
    "    plt.title('Train Error')\n",
    "    plt.plot(h.history['loss'])\n",
    "    plt.subplot(1,2,2)\n",
    "    plt.title('Test Error')\n",
    "    plt.plot(h.history['val_loss'])\n",
    "    plt.show()\n",
    "    \n",
    "    plt.title('comparision of train and test error')\n",
    "    \n",
    "    plt.plot(h.history['loss'],label='train ')\n",
    "    plt.plot(h.history['val_loss'],label='test')\n",
    "    plt.legend(loc='upper right')\n",
    "    plt.show()"
   ]
  },
  {
   "cell_type": "markdown",
   "metadata": {},
   "source": [
    "Now we want to split our data in 3 parts train, test, validation. we keep test data completely seprate so that modal has never seen it before . In this way we can analyze the perforance of our modal."
   ]
  },
  {
   "cell_type": "code",
   "execution_count": 7,
   "metadata": {},
   "outputs": [],
   "source": [
    "def prepare_datasets(test_size, validation_size):\n",
    "    \"\"\"Loads data and splits it into train, validation and test sets.\n",
    "    :param test_size (float): Value in [0, 1] indicating percentage of data set to allocate to test split\n",
    "    :param validation_size (float): Value in [0, 1] indicating percentage of train set to allocate to validation split\n",
    "    :return X_train (ndarray): Input training set\n",
    "    :return X_validation (ndarray): Input validation set\n",
    "    :return X_test (ndarray): Input test set\n",
    "    :return y_train (ndarray): Target training set\n",
    "    :return y_validation (ndarray): Target validation set\n",
    "    :return y_test (ndarray): Target test set\n",
    "    \"\"\"\n",
    "\n",
    "    # load data\n",
    "    X, y = load_data(DATA_PATH)\n",
    "\n",
    "    # create train, validation and test split\n",
    "    X_train, X_test, y_train, y_test = train_test_split(X, y, test_size=test_size)\n",
    "    X_train, X_validation, y_train, y_validation = train_test_split(X_train, y_train, test_size=validation_size)\n",
    "\n",
    "    # add an axis to input sets because CNN need 3d data shape with some depth\n",
    "    X_train = X_train[..., np.newaxis] # it will have 4d (num of samples,130,13,1)\n",
    "    X_validation = X_validation[..., np.newaxis]\n",
    "    X_test = X_test[..., np.newaxis]\n",
    "\n",
    "    return X_train, X_validation, X_test, y_train, y_validation, y_test"
   ]
  },
  {
   "cell_type": "code",
   "execution_count": 8,
   "metadata": {},
   "outputs": [],
   "source": [
    "#bulid CNN\n",
    "def build_model(input_shape):\n",
    "    \"\"\"Generates CNN model\n",
    "    :param input_shape (tuple): Shape of input set\n",
    "    :return model: CNN model\n",
    "    \"\"\"\n",
    "\n",
    "    # build network topology\n",
    "    model = keras.Sequential()\n",
    "\n",
    "    # 1st conv layer\n",
    "    model.add(keras.layers.Conv2D(32, (3, 3), activation='relu', input_shape=input_shape))\n",
    "    model.add(keras.layers.MaxPooling2D((3, 3), strides=(2, 2), padding='same'))\n",
    "    model.add(keras.layers.BatchNormalization())\n",
    "\n",
    "    # 2nd conv layer\n",
    "    model.add(keras.layers.Conv2D(32, (3, 3), activation='relu'))\n",
    "    model.add(keras.layers.MaxPooling2D((3, 3), strides=(2, 2), padding='same'))\n",
    "    model.add(keras.layers.BatchNormalization())\n",
    "\n",
    "    # 3rd conv layer\n",
    "    model.add(keras.layers.Conv2D(32, (2, 2), activation='relu'))\n",
    "    model.add(keras.layers.MaxPooling2D((2, 2), strides=(2, 2), padding='same'))\n",
    "    model.add(keras.layers.BatchNormalization())\n",
    "\n",
    "    # flatten output and feed it into dense layer\n",
    "    model.add(keras.layers.Flatten())\n",
    "    model.add(keras.layers.Dense(64, activation='relu'))\n",
    "    model.add(keras.layers.Dropout(0.3))\n",
    "\n",
    "    # output layer\n",
    "    model.add(keras.layers.Dense(4, activation='softmax'))\n",
    "\n",
    "    return model"
   ]
  },
  {
   "cell_type": "code",
   "execution_count": 9,
   "metadata": {},
   "outputs": [
    {
     "name": "stdout",
     "output_type": "stream",
     "text": [
      "Data succesfully loaded!\n"
     ]
    }
   ],
   "source": [
    "if __name__ == \"__main__\":\n",
    "    # create train test validation 0.25 is percent out of total dataset set=1 (25% of dataset) for test set and .2 is percent out of training set (20 % of training set) we will used for validation\n",
    "    X_train, X_validation, X_test, y_train, y_validation, y_test = prepare_datasets(0.25, 0.2)\n",
    "\n",
    "    # create network\n",
    "    input_shape = (X_train.shape[1], X_train.shape[2], 1)\n",
    "    model = build_model(input_shape)\n",
    "    \n",
    "\n",
    "    \n",
    "    "
   ]
  },
  {
   "cell_type": "code",
   "execution_count": 10,
   "metadata": {},
   "outputs": [
    {
     "name": "stdout",
     "output_type": "stream",
     "text": [
      "Model: \"sequential\"\n",
      "_________________________________________________________________\n",
      " Layer (type)                Output Shape              Param #   \n",
      "=================================================================\n",
      " conv2d (Conv2D)             (None, 128, 11, 32)       320       \n",
      "                                                                 \n",
      " max_pooling2d (MaxPooling2D  (None, 64, 6, 32)        0         \n",
      " )                                                               \n",
      "                                                                 \n",
      " batch_normalization (BatchN  (None, 64, 6, 32)        128       \n",
      " ormalization)                                                   \n",
      "                                                                 \n",
      " conv2d_1 (Conv2D)           (None, 62, 4, 32)         9248      \n",
      "                                                                 \n",
      " max_pooling2d_1 (MaxPooling  (None, 31, 2, 32)        0         \n",
      " 2D)                                                             \n",
      "                                                                 \n",
      " batch_normalization_1 (Batc  (None, 31, 2, 32)        128       \n",
      " hNormalization)                                                 \n",
      "                                                                 \n",
      " conv2d_2 (Conv2D)           (None, 30, 1, 32)         4128      \n",
      "                                                                 \n",
      " max_pooling2d_2 (MaxPooling  (None, 15, 1, 32)        0         \n",
      " 2D)                                                             \n",
      "                                                                 \n",
      " batch_normalization_2 (Batc  (None, 15, 1, 32)        128       \n",
      " hNormalization)                                                 \n",
      "                                                                 \n",
      " flatten (Flatten)           (None, 480)               0         \n",
      "                                                                 \n",
      " dense (Dense)               (None, 64)                30784     \n",
      "                                                                 \n",
      " dropout (Dropout)           (None, 64)                0         \n",
      "                                                                 \n",
      " dense_1 (Dense)             (None, 4)                 260       \n",
      "                                                                 \n",
      "=================================================================\n",
      "Total params: 45,124\n",
      "Trainable params: 44,932\n",
      "Non-trainable params: 192\n",
      "_________________________________________________________________\n"
     ]
    }
   ],
   "source": [
    "# compile model\n",
    "optimiser = keras.optimizers.Adam(learning_rate=0.0001)\n",
    "model.compile(optimizer=optimiser,\n",
    "            loss='sparse_categorical_crossentropy',\n",
    "            metrics=['accuracy'])\n",
    "\n",
    "model.summary()"
   ]
  },
  {
   "cell_type": "code",
   "execution_count": 11,
   "metadata": {},
   "outputs": [
    {
     "name": "stdout",
     "output_type": "stream",
     "text": [
      "Epoch 1/30\n",
      "75/75 [==============================] - 8s 88ms/step - loss: 1.5586 - accuracy: 0.3967 - val_loss: 1.3794 - val_accuracy: 0.4183\n",
      "Epoch 2/30\n",
      "75/75 [==============================] - 5s 70ms/step - loss: 0.9592 - accuracy: 0.5861 - val_loss: 0.9623 - val_accuracy: 0.5933\n",
      "Epoch 3/30\n",
      "75/75 [==============================] - 6s 78ms/step - loss: 0.7249 - accuracy: 0.6946 - val_loss: 0.6965 - val_accuracy: 0.7267\n",
      "Epoch 4/30\n",
      "75/75 [==============================] - 5s 71ms/step - loss: 0.6372 - accuracy: 0.7297 - val_loss: 0.5894 - val_accuracy: 0.7583\n",
      "Epoch 5/30\n",
      "75/75 [==============================] - 5s 72ms/step - loss: 0.5591 - accuracy: 0.7730 - val_loss: 0.5391 - val_accuracy: 0.7700\n",
      "Epoch 6/30\n",
      "75/75 [==============================] - 5s 73ms/step - loss: 0.5162 - accuracy: 0.7835 - val_loss: 0.5081 - val_accuracy: 0.7750\n",
      "Epoch 7/30\n",
      "75/75 [==============================] - 5s 71ms/step - loss: 0.4832 - accuracy: 0.7960 - val_loss: 0.4840 - val_accuracy: 0.7983\n",
      "Epoch 8/30\n",
      "75/75 [==============================] - 5s 73ms/step - loss: 0.4535 - accuracy: 0.8223 - val_loss: 0.4716 - val_accuracy: 0.7883\n",
      "Epoch 9/30\n",
      "75/75 [==============================] - 5s 72ms/step - loss: 0.4179 - accuracy: 0.8381 - val_loss: 0.4537 - val_accuracy: 0.8167\n",
      "Epoch 10/30\n",
      "75/75 [==============================] - 5s 71ms/step - loss: 0.4043 - accuracy: 0.8290 - val_loss: 0.4525 - val_accuracy: 0.8300\n",
      "Epoch 11/30\n",
      "75/75 [==============================] - 6s 74ms/step - loss: 0.3767 - accuracy: 0.8456 - val_loss: 0.4337 - val_accuracy: 0.8250\n",
      "Epoch 12/30\n",
      "75/75 [==============================] - 7s 87ms/step - loss: 0.3572 - accuracy: 0.8615 - val_loss: 0.4182 - val_accuracy: 0.8400\n",
      "Epoch 13/30\n",
      "75/75 [==============================] - 7s 99ms/step - loss: 0.3512 - accuracy: 0.8652 - val_loss: 0.4206 - val_accuracy: 0.8433\n",
      "Epoch 14/30\n",
      "75/75 [==============================] - 6s 78ms/step - loss: 0.3396 - accuracy: 0.8678 - val_loss: 0.4153 - val_accuracy: 0.8383\n",
      "Epoch 15/30\n",
      "75/75 [==============================] - 7s 91ms/step - loss: 0.3214 - accuracy: 0.8728 - val_loss: 0.3930 - val_accuracy: 0.8500\n",
      "Epoch 16/30\n",
      "75/75 [==============================] - 6s 80ms/step - loss: 0.2942 - accuracy: 0.8890 - val_loss: 0.3900 - val_accuracy: 0.8483\n",
      "Epoch 17/30\n",
      "75/75 [==============================] - 6s 73ms/step - loss: 0.2765 - accuracy: 0.8995 - val_loss: 0.3846 - val_accuracy: 0.8550\n",
      "Epoch 18/30\n",
      "75/75 [==============================] - 6s 75ms/step - loss: 0.2680 - accuracy: 0.8974 - val_loss: 0.3828 - val_accuracy: 0.8650\n",
      "Epoch 19/30\n",
      "75/75 [==============================] - 6s 77ms/step - loss: 0.2760 - accuracy: 0.8961 - val_loss: 0.3792 - val_accuracy: 0.8717\n",
      "Epoch 20/30\n",
      "75/75 [==============================] - 6s 73ms/step - loss: 0.2664 - accuracy: 0.9036 - val_loss: 0.3827 - val_accuracy: 0.8600\n",
      "Epoch 21/30\n",
      "75/75 [==============================] - 5s 73ms/step - loss: 0.2494 - accuracy: 0.9011 - val_loss: 0.3611 - val_accuracy: 0.8733\n",
      "Epoch 22/30\n",
      "75/75 [==============================] - 6s 73ms/step - loss: 0.2440 - accuracy: 0.9028 - val_loss: 0.3519 - val_accuracy: 0.8750\n",
      "Epoch 23/30\n",
      "75/75 [==============================] - 6s 87ms/step - loss: 0.2245 - accuracy: 0.9153 - val_loss: 0.3460 - val_accuracy: 0.8783\n",
      "Epoch 24/30\n",
      "75/75 [==============================] - 6s 78ms/step - loss: 0.2209 - accuracy: 0.9207 - val_loss: 0.3400 - val_accuracy: 0.8850\n",
      "Epoch 25/30\n",
      "75/75 [==============================] - 5s 71ms/step - loss: 0.2142 - accuracy: 0.9228 - val_loss: 0.3410 - val_accuracy: 0.8783\n",
      "Epoch 26/30\n",
      "75/75 [==============================] - 5s 68ms/step - loss: 0.1961 - accuracy: 0.9358 - val_loss: 0.3306 - val_accuracy: 0.8850\n",
      "Epoch 27/30\n",
      "75/75 [==============================] - 5s 63ms/step - loss: 0.2037 - accuracy: 0.9241 - val_loss: 0.3313 - val_accuracy: 0.8867\n",
      "Epoch 28/30\n",
      "75/75 [==============================] - 5s 64ms/step - loss: 0.1819 - accuracy: 0.9345 - val_loss: 0.3248 - val_accuracy: 0.8917\n",
      "Epoch 29/30\n",
      "75/75 [==============================] - 5s 64ms/step - loss: 0.1745 - accuracy: 0.9349 - val_loss: 0.3128 - val_accuracy: 0.8883\n",
      "Epoch 30/30\n",
      "75/75 [==============================] - 5s 65ms/step - loss: 0.1678 - accuracy: 0.9445 - val_loss: 0.3119 - val_accuracy: 0.8950\n"
     ]
    }
   ],
   "source": [
    " # train model\n",
    "history = model.fit(X_train, y_train, validation_data=(X_validation, y_validation), batch_size=32, epochs=30)"
   ]
  },
  {
   "cell_type": "code",
   "execution_count": 12,
   "metadata": {},
   "outputs": [
    {
     "data": {
      "image/png": "[encoded data removed]",
      "text/plain": [
       "<Figure size 432x288 with 2 Axes>"
      ]
     },
     "metadata": {
      "needs_background": "light"
     },
     "output_type": "display_data"
    },
    {
     "data": {
      "image/png": "[encoded data removed]",
      "text/plain": [
       "<Figure size 432x288 with 1 Axes>"
      ]
     },
     "metadata": {
      "needs_background": "light"
     },
     "output_type": "display_data"
    },
    {
     "data": {
      "image/png": "[encoded data removed]",
      "text/plain": [
       "<Figure size 432x288 with 2 Axes>"
      ]
     },
     "metadata": {
      "needs_background": "light"
     },
     "output_type": "display_data"
    },
    {
     "data": {
      "image/png": "[encoded data removed]",
      "text/plain": [
       "<Figure size 432x288 with 1 Axes>"
      ]
     },
     "metadata": {
      "needs_background": "light"
     },
     "output_type": "display_data"
    }
   ],
   "source": [
    "  # plot accuracy/error for training and validation\n",
    "plot_history(history)"
   ]
  },
  {
   "cell_type": "code",
   "execution_count": 13,
   "metadata": {},
   "outputs": [
    {
     "name": "stdout",
     "output_type": "stream",
     "text": [
      "32/32 - 1s - loss: 0.2620 - accuracy: 0.9110 - 616ms/epoch - 19ms/step\n",
      "\n",
      "Test accuracy: 0.9110000133514404\n"
     ]
    }
   ],
   "source": [
    "# evaluate model on test set which modal has not seen before\n",
    "test_loss, test_acc = model.evaluate(X_test, y_test, verbose=2)\n",
    "print('\\nTest accuracy:', test_acc)"
   ]
  },
  {
   "cell_type": "code",
   "execution_count": 41,
   "metadata": {},
   "outputs": [],
   "source": [
    "# pick a sample to predict from the test set\n",
    "X_to_predict = X_test[2]\n",
    "y_to_predict = y_test[2]"
   ]
  },
  {
   "cell_type": "code",
   "execution_count": 37,
   "metadata": {},
   "outputs": [],
   "source": [
    "def predict(model, X, y,genre_names):\n",
    "    \"\"\"Predict a single sample using the trained model\n",
    "    :param model: Trained classifier\n",
    "    :param X: Input data\n",
    "    :param y (int): Target\n",
    "    \"\"\"\n",
    "\n",
    "    # add a dimension to input data for sample - model.predict() expects a 4d array in this case\n",
    "    X = X[np.newaxis, ...] # array shape (1, 130, 13, 1)\n",
    "\n",
    "    # perform prediction\n",
    "    prediction = model.predict(X)\n",
    "\n",
    "    # get index with max value\n",
    "    predicted_index = np.argmax(prediction, axis=1)\n",
    "\n",
    "    print(\"Target: {}, Predicted label: {}\".format(genre_names[y], genre_names[predicted_index]))"
   ]
  },
  {
   "cell_type": "code",
   "execution_count": null,
   "metadata": {},
   "outputs": [],
   "source": [
    "with open('data.json', \"r\") as fp:\n",
    "        data = json.load(fp)\n",
    "map=np.array(data[\"mapping\"])"
   ]
  },
  {
   "cell_type": "code",
   "execution_count": 39,
   "metadata": {},
   "outputs": [
    {
     "name": "stdout",
     "output_type": "stream",
     "text": [
      "['blues' 'classical' 'country' 'hiphop']\n"
     ]
    }
   ],
   "source": [
    "# print(X_test,y_test)\n",
    "\n",
    "\n",
    "genre_names = np.array([l.split('\\\\')[1] for l in map])\n",
    "print(genre_names)"
   ]
  },
  {
   "cell_type": "code",
   "execution_count": 42,
   "metadata": {},
   "outputs": [
    {
     "name": "stdout",
     "output_type": "stream",
     "text": [
      "1/1 [==============================] - 0s 32ms/step\n",
      "Target: classical, Predicted label: ['classical']\n"
     ]
    }
   ],
   "source": [
    " # predict sample\n",
    "predict(model, X_to_predict, y_to_predict,genre_names)\n",
    "\n"
   ]
  },
  {
   "cell_type": "code",
   "execution_count": 45,
   "metadata": {},
   "outputs": [
    {
     "name": "stdout",
     "output_type": "stream",
     "text": [
      "1/1 [==============================] - 0s 32ms/step\n",
      "Target: hiphop, Predicted label: ['hiphop']\n",
      "1/1 [==============================] - 0s 48ms/step\n",
      "Target: hiphop, Predicted label: ['hiphop']\n",
      "1/1 [==============================] - 0s 50ms/step\n",
      "Target: classical, Predicted label: ['classical']\n",
      "1/1 [==============================] - 0s 40ms/step\n",
      "Target: blues, Predicted label: ['blues']\n",
      "1/1 [==============================] - 0s 40ms/step\n",
      "Target: country, Predicted label: ['country']\n",
      "1/1 [==============================] - 0s 32ms/step\n",
      "Target: hiphop, Predicted label: ['hiphop']\n",
      "1/1 [==============================] - 0s 40ms/step\n",
      "Target: hiphop, Predicted label: ['hiphop']\n",
      "1/1 [==============================] - 0s 61ms/step\n",
      "Target: blues, Predicted label: ['classical']\n",
      "1/1 [==============================] - 0s 88ms/step\n",
      "Target: blues, Predicted label: ['blues']\n",
      "1/1 [==============================] - 0s 84ms/step\n",
      "Target: blues, Predicted label: ['blues']\n"
     ]
    }
   ],
   "source": [
    "for i in range(10):\n",
    "    X_to_predict = X_test[i]\n",
    "    y_to_predict = y_test[i]\n",
    "    predict(model, X_to_predict, y_to_predict,genre_names)\n",
    "    \n",
    "    "
   ]
  }
 ],
 "metadata": {
  "kernelspec": {
   "display_name": "Python 3.9.2 64-bit",
   "language": "python",
   "name": "python3"
  },
  "language_info": {
   "codemirror_mode": {
    "name": "ipython",
    "version": 3
   },
   "file_extension": ".py",
   "mimetype": "text/x-python",
   "name": "python",
   "nbconvert_exporter": "python",
   "pygments_lexer": "ipython3",
   "version": "3.9.2"
  },
  "orig_nbformat": 4,
  "vscode": {
   "interpreter": {
    "hash": "872297596d866abac5f8ee2e50e2eeb543af31a9f9c1bd6008203e0c51f332d3"
   }
  }
 },
 "nbformat": 4,
 "nbformat_minor": 2
}
