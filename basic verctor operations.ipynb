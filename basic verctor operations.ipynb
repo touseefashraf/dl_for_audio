{
 "cells": [
  {
   "cell_type": "code",
   "execution_count": 1,
   "metadata": {},
   "outputs": [
    {
     "name": "stdout",
     "output_type": "stream",
     "text": [
      "[1, 5, 4, 8, 9, 9, 5, 5]\n"
     ]
    }
   ],
   "source": [
    "# this is a list we cant do vectors operation on it \n",
    "a=[1,5,4,8,9,9,5,5]\n",
    "print(a)"
   ]
  },
  {
   "cell_type": "code",
   "execution_count": 2,
   "metadata": {},
   "outputs": [
    {
     "name": "stdout",
     "output_type": "stream",
     "text": [
      "[1, 5, 4, 8, 9, 9, 5, 5, 2]\n"
     ]
    }
   ],
   "source": [
    "# b=a+2\n",
    "b=a+[2]\n",
    "print(b)"
   ]
  },
  {
   "cell_type": "code",
   "execution_count": 3,
   "metadata": {},
   "outputs": [],
   "source": [
    "import numpy as np"
   ]
  },
  {
   "cell_type": "code",
   "execution_count": 4,
   "metadata": {},
   "outputs": [
    {
     "name": "stdout",
     "output_type": "stream",
     "text": [
      "[1 5 4 8 9 9 5 5]\n",
      "(8,)\n",
      "[ 3  7  6 10 11 11  7  7]\n"
     ]
    }
   ],
   "source": [
    "# np.array convert it into a vector now we can perform vector operations on it. \n",
    "\n",
    "b=np.array(a)\n",
    "print(b)\n",
    "# this is a one diminsional array \n",
    "print(np.shape(b))\n",
    "# it will add 2 to all elements \n",
    "print(b+2)"
   ]
  },
  {
   "cell_type": "code",
   "execution_count": 5,
   "metadata": {},
   "outputs": [
    {
     "name": "stdout",
     "output_type": "stream",
     "text": [
      "(3,)\n",
      "0.45000000000000007\n",
      "0.610639233949222\n"
     ]
    }
   ],
   "source": [
    "# now same operation we did in first neuron with for loop we will do it with vector lot ease and efficient way \n",
    "inputs=np.array([.5,.3,.2])\n",
    "weights=np.array([.4,.7,.2])\n",
    "print(np.shape(inputs))\n",
    "output=np.dot(inputs,weights)\n",
    "print(output)\n",
    "sig_activ=1/(1+np.exp(-output))\n",
    "print(sig_activ)"
   ]
  },
  {
   "cell_type": "code",
   "execution_count": 6,
   "metadata": {},
   "outputs": [
    {
     "name": "stdout",
     "output_type": "stream",
     "text": [
      "[[1 5]\n",
      " [7 8]]\n",
      "(2, 2)\n",
      "8\n",
      "[[8]]\n",
      "[[1]\n",
      " [5]\n",
      " [7]\n",
      " [8]]\n",
      "[[1 5 7 8]]\n"
     ]
    }
   ],
   "source": [
    "a=np.array([[1,5],[7,8]])\n",
    "print(a)\n",
    "print(np.shape(a))\n",
    "# now this is like a matrix \n",
    "# it we want to read 3rd element of 1st row \n",
    "print(a[1,1])\n",
    "c=a[1:,1:]\n",
    "print(c)\n",
    "b=np.reshape(a,(4,1))\n",
    "d=b.T\n",
    "print(b)\n",
    "print(d)"
   ]
  },
  {
   "cell_type": "code",
   "execution_count": 7,
   "metadata": {},
   "outputs": [],
   "source": [
    "a=np.array([[1,5,7,8]])"
   ]
  },
  {
   "cell_type": "code",
   "execution_count": 8,
   "metadata": {},
   "outputs": [
    {
     "name": "stdout",
     "output_type": "stream",
     "text": [
      "[[0.37961832 0.20980901 0.13609506 0.70533684]\n",
      " [0.36506259 0.74390967 0.30334938 0.60483151]\n",
      " [0.89223411 0.46966447 0.31761375 0.10004341]]\n",
      "[[0.66 0.27 0.94 0.34]\n",
      " [0.61 0.89 0.16 0.55]\n",
      " [0.81 0.32 0.09 0.36]]\n",
      "[[3 2 5 5 1]\n",
      " [1 0 5 6 8]\n",
      " [9 1 2 3 0]\n",
      " [3 9 4 5 0]]\n"
     ]
    }
   ],
   "source": [
    "# give us random values of given size \n",
    "a=np.random.rand(3,4)\n",
    "print(a)\n",
    "# give us random values of given size and round it to decimal\n",
    "a=np.round(np.random.rand(3,4),2)\n",
    "print(a)\n",
    "\n",
    "# give us random values of integers from range of 0 to 10, size 4 row 5 col\n",
    "a=np.random.randint(0,10,size=(4,5))\n",
    "\n",
    "print(a)"
   ]
  },
  {
   "cell_type": "code",
   "execution_count": 9,
   "metadata": {},
   "outputs": [
    {
     "name": "stdout",
     "output_type": "stream",
     "text": [
      "[[False False]\n",
      " [False False]\n",
      " [False False]\n",
      " [False False]\n",
      " [False False]]\n",
      "[0. 0. 0. 0. 0. 0. 0. 0. 0. 0. 0. 0. 0. 0. 0. 0. 0. 0. 0. 0.]\n",
      "[0 0 0 0 0 0 0 0 0 0 0 0 0 0 0 0 0 0 0 0]\n"
     ]
    }
   ],
   "source": [
    "a=np.zeros((5,2),dtype=bool)\n",
    "print(a)\n",
    "\n",
    "a=np.zeros(20)\n",
    "print(a)\n",
    "\n",
    "a=np.zeros(20, dtype=int)\n",
    "print(a)"
   ]
  },
  {
   "cell_type": "code",
   "execution_count": 10,
   "metadata": {},
   "outputs": [
    {
     "name": "stdout",
     "output_type": "stream",
     "text": [
      "(4,)\n",
      "<class 'numpy.ndarray'>\n",
      "(4,)\n",
      "146\n",
      "146\n",
      "<class 'numpy.ndarray'>\n",
      "[[0.6789 0.6603 0.3303 0.5373]\n",
      " [0.4122 0.5406 0.2228 0.3256]\n",
      " [0.4484 0.31   0.2374 0.3962]\n",
      " [0.1685 0.4883 0.4091 0.4173]]\n",
      "[[0.6789 0.6603 0.3303 0.5373]\n",
      " [0.4122 0.5406 0.2228 0.3256]\n",
      " [0.4484 0.31   0.2374 0.3962]\n",
      " [0.1685 0.4883 0.4091 0.4173]]\n",
      "[[[0.34139932 0.18976045]\n",
      "  [0.30424356 0.74789986]\n",
      "  [0.13692214 0.98480236]\n",
      "  [0.14804174 0.30300372]]\n",
      "\n",
      " [[0.23952197 0.85368452]\n",
      "  [0.20962363 0.69861761]\n",
      "  [0.24544654 0.17563865]\n",
      "  [0.84049902 0.86793148]]\n",
      "\n",
      " [[0.16883556 0.83535382]\n",
      "  [0.17789231 0.89036015]\n",
      "  [0.09925107 0.24474003]\n",
      "  [0.59860501 0.30409695]]]\n"
     ]
    }
   ],
   "source": [
    "\n",
    "\n",
    "a = np.array([9, 5, 7, 4])\n",
    "c = np.array([9, 5, 4, 3])\n",
    "\n",
    "print(np.shape(a))\n",
    "print(type(a))\n",
    "print(np.shape(c))\n",
    "print(np.dot(a, c))\n",
    "\n",
    "# using matmul we are doing matrix multiplication \n",
    "print(np.matmul(a.T, c))\n",
    "\n",
    "a=np.round(np.random.rand(3,4),2)\n",
    "print(type(a))\n",
    "b=np.round(np.random.rand(3,4),2)\n",
    "\n",
    "print(np.dot(a.T,b))\n",
    "print(np.matmul(a.T,b))\n",
    "\n",
    "a = np.random.rand(3,4,2)\n",
    "print(a)\n",
    "\n",
    "\n",
    "\n"
   ]
  },
  {
   "cell_type": "code",
   "execution_count": 21,
   "metadata": {},
   "outputs": [
    {
     "name": "stdout",
     "output_type": "stream",
     "text": [
      "[ 0.  2.  4.  6.  8. 10. 12. 14. 16. 18. 20. 22. 24. 26. 28. 30. 32. 34.\n",
      " 36. 38. 40. 42. 44. 46. 48. 50.]\n",
      "[ 1.  3.  5.  7.  9. 11. 13. 15. 17. 19. 21. 23. 25. 27. 29. 31. 33. 35.\n",
      " 37. 39. 41. 43. 45. 47. 49.]\n",
      "[ 0.  1.  2.  3.  4.  5.  6.  7.  8.  9. 10. 11. 12. 13. 14. 15. 16. 17.\n",
      " 18. 19. 20. 21. 22. 23. 24. 25. 26. 27. 28. 29. 30. 31. 32. 33. 34. 35.\n",
      " 36. 37. 38. 39. 40. 41. 42. 43. 44. 45. 46. 47. 48. 49. 50.]\n"
     ]
    }
   ],
   "source": [
    "a=np.linspace(0,50,num=51)\n",
    "b=np.zeros(51)\n",
    "\n",
    "c=a[::2]\n",
    "d=a[1::2]\n",
    "print(c)\n",
    "print(d)\n",
    "\n",
    "e=np.zeros(np.shape(a))\n",
    "e[::2]=c\n",
    "e[1::2]=d\n",
    "\n",
    "print(e)"
   ]
  }
 ],
 "metadata": {
  "kernelspec": {
   "display_name": "Python 3.9.7 ('base')",
   "language": "python",
   "name": "python3"
  },
  "language_info": {
   "codemirror_mode": {
    "name": "ipython",
    "version": 3
   },
   "file_extension": ".py",
   "mimetype": "text/x-python",
   "name": "python",
   "nbconvert_exporter": "python",
   "pygments_lexer": "ipython3",
   "version": "3.9.7"
  },
  "orig_nbformat": 4,
  "vscode": {
   "interpreter": {
    "hash": "f476137129a4ee39a73b80c59a9237aa20e64db14d61128bca8a8bdd34cac0da"
   }
  }
 },
 "nbformat": 4,
 "nbformat_minor": 2
}
