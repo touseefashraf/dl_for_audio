{
 "cells": [
  {
   "cell_type": "code",
   "execution_count": 1,
   "metadata": {},
   "outputs": [
    {
     "name": "stdout",
     "output_type": "stream",
     "text": [
      "[1, 5, 4, 8, 9, 9, 5, 5]\n"
     ]
    }
   ],
   "source": [
    "# this is a list we cant do vectors operation on it \n",
    "a=[1,5,4,8,9,9,5,5]\n",
    "print(a)"
   ]
  },
  {
   "cell_type": "code",
   "execution_count": 2,
   "metadata": {},
   "outputs": [
    {
     "name": "stdout",
     "output_type": "stream",
     "text": [
      "[1, 5, 4, 8, 9, 9, 5, 5, 2]\n"
     ]
    }
   ],
   "source": [
    "# b=a+2\n",
    "b=a+[2]\n",
    "print(b)"
   ]
  },
  {
   "cell_type": "code",
   "execution_count": 3,
   "metadata": {},
   "outputs": [],
   "source": [
    "import numpy as np"
   ]
  },
  {
   "cell_type": "code",
   "execution_count": 4,
   "metadata": {},
   "outputs": [
    {
     "name": "stdout",
     "output_type": "stream",
     "text": [
      "[1 5 4 8 9 9 5 5]\n",
      "(8,)\n",
      "[ 3  7  6 10 11 11  7  7]\n"
     ]
    }
   ],
   "source": [
    "# np.array convert it into a vector now we can perform vector operations on it. \n",
    "\n",
    "b=np.array(a)\n",
    "print(b)\n",
    "# this is a one diminsional array \n",
    "print(np.shape(b))\n",
    "# it will add 2 to all elements \n",
    "print(b+2)"
   ]
  },
  {
   "cell_type": "code",
   "execution_count": 5,
   "metadata": {},
   "outputs": [
    {
     "name": "stdout",
     "output_type": "stream",
     "text": [
      "(3,)\n",
      "0.45000000000000007\n",
      "0.610639233949222\n"
     ]
    }
   ],
   "source": [
    "# now same operation we did in first neuron with for loop we will do it with vector lot ease and efficient way \n",
    "inputs=np.array([.5,.3,.2])\n",
    "weights=np.array([.4,.7,.2])\n",
    "print(np.shape(inputs))\n",
    "output=np.dot(inputs,weights)\n",
    "print(output)\n",
    "sig_activ=1/(1+np.exp(-output))\n",
    "print(sig_activ)"
   ]
  },
  {
   "cell_type": "code",
   "execution_count": 6,
   "metadata": {},
   "outputs": [
    {
     "name": "stdout",
     "output_type": "stream",
     "text": [
      "[[1 5]\n",
      " [7 8]]\n",
      "(2, 2)\n",
      "8\n",
      "[[8]]\n",
      "[[1]\n",
      " [5]\n",
      " [7]\n",
      " [8]]\n",
      "[[1 5 7 8]]\n"
     ]
    }
   ],
   "source": [
    "a=np.array([[1,5],[7,8]])\n",
    "print(a)\n",
    "print(np.shape(a))\n",
    "# now this is like a matrix \n",
    "# it we want to read 3rd element of 1st row \n",
    "print(a[1,1])\n",
    "c=a[1:,1:]\n",
    "print(c)\n",
    "b=np.reshape(a,(4,1))\n",
    "d=b.T\n",
    "print(b)\n",
    "print(d)"
   ]
  },
  {
   "cell_type": "code",
   "execution_count": 7,
   "metadata": {},
   "outputs": [],
   "source": [
    "a=np.array([[1,5,7,8]])"
   ]
  },
  {
   "cell_type": "code",
   "execution_count": 8,
   "metadata": {},
   "outputs": [
    {
     "name": "stdout",
     "output_type": "stream",
     "text": [
      "[[0.66148531 0.92202063 0.75854531 0.70206063]\n",
      " [0.37648297 0.20703975 0.67311591 0.90789935]\n",
      " [0.97612682 0.06653044 0.21873002 0.29152479]]\n",
      "[[0.48 0.9  0.   0.81]\n",
      " [0.13 0.43 0.47 0.56]\n",
      " [0.9  0.34 0.31 0.13]]\n",
      "[[2 0 6 1 2]\n",
      " [1 3 3 7 6]\n",
      " [2 0 5 7 8]\n",
      " [7 1 4 2 7]]\n"
     ]
    }
   ],
   "source": [
    "# give us random values of given size \n",
    "a=np.random.rand(3,4)\n",
    "print(a)\n",
    "# give us random values of given size and round it to decimal\n",
    "a=np.round(np.random.rand(3,4),2)\n",
    "print(a)\n",
    "\n",
    "# give us random values of integers from range of 0 to 10, size 4 row 5 col\n",
    "a=np.random.randint(0,10,size=(4,5))\n",
    "\n",
    "print(a)"
   ]
  },
  {
   "cell_type": "code",
   "execution_count": 9,
   "metadata": {},
   "outputs": [
    {
     "name": "stdout",
     "output_type": "stream",
     "text": [
      "[[False False]\n",
      " [False False]\n",
      " [False False]\n",
      " [False False]\n",
      " [False False]]\n",
      "[0. 0. 0. 0. 0. 0. 0. 0. 0. 0. 0. 0. 0. 0. 0. 0. 0. 0. 0. 0.]\n",
      "[0 0 0 0 0 0 0 0 0 0 0 0 0 0 0 0 0 0 0 0]\n"
     ]
    }
   ],
   "source": [
    "a=np.zeros((5,2),dtype=bool)\n",
    "print(a)\n",
    "\n",
    "a=np.zeros(20)\n",
    "print(a)\n",
    "\n",
    "a=np.zeros(20, dtype=int)\n",
    "print(a)"
   ]
  },
  {
   "cell_type": "code",
   "execution_count": 10,
   "metadata": {},
   "outputs": [
    {
     "name": "stdout",
     "output_type": "stream",
     "text": [
      "(4,)\n",
      "<class 'numpy.ndarray'>\n",
      "(4,)\n",
      "146\n",
      "146\n",
      "<class 'numpy.ndarray'>\n",
      "[[0.3389 0.58   0.4226 0.4195]\n",
      " [0.1308 0.2958 0.1889 0.1806]\n",
      " [0.4049 0.39   0.3701 0.3315]\n",
      " [0.4706 0.8424 0.539  0.3798]]\n",
      "[[0.3389 0.58   0.4226 0.4195]\n",
      " [0.1308 0.2958 0.1889 0.1806]\n",
      " [0.4049 0.39   0.3701 0.3315]\n",
      " [0.4706 0.8424 0.539  0.3798]]\n",
      "[[[0.87250496 0.47666299]\n",
      "  [0.62663897 0.55481996]\n",
      "  [0.65959434 0.54532179]\n",
      "  [0.59554723 0.82876965]]\n",
      "\n",
      " [[0.40047569 0.94208765]\n",
      "  [0.80384111 0.13789255]\n",
      "  [0.84653224 0.16832633]\n",
      "  [0.38205145 0.95713581]]\n",
      "\n",
      " [[0.46785855 0.46170597]\n",
      "  [0.63958023 0.06141978]\n",
      "  [0.42564361 0.43399389]\n",
      "  [0.51030642 0.99403909]]]\n"
     ]
    }
   ],
   "source": [
    "\n",
    "\n",
    "a = np.array([9, 5, 7, 4])\n",
    "c = np.array([9, 5, 4, 3])\n",
    "\n",
    "print(np.shape(a))\n",
    "print(type(a))\n",
    "print(np.shape(c))\n",
    "print(np.dot(a, c))\n",
    "\n",
    "# using matmul we are doing matrix multiplication \n",
    "print(np.matmul(a.T, c))\n",
    "\n",
    "a=np.round(np.random.rand(3,4),2)\n",
    "print(type(a))\n",
    "b=np.round(np.random.rand(3,4),2)\n",
    "\n",
    "print(np.dot(a.T,b))\n",
    "print(np.matmul(a.T,b))\n",
    "\n",
    "a = np.random.rand(3,4,2)\n",
    "print(a)\n",
    "\n",
    "\n",
    "\n"
   ]
  }
 ],
 "metadata": {
  "kernelspec": {
   "display_name": "Python 3.9.7 ('base')",
   "language": "python",
   "name": "python3"
  },
  "language_info": {
   "codemirror_mode": {
    "name": "ipython",
    "version": 3
   },
   "file_extension": ".py",
   "mimetype": "text/x-python",
   "name": "python",
   "nbconvert_exporter": "python",
   "pygments_lexer": "ipython3",
   "version": "3.9.7"
  },
  "orig_nbformat": 4,
  "vscode": {
   "interpreter": {
    "hash": "f476137129a4ee39a73b80c59a9237aa20e64db14d61128bca8a8bdd34cac0da"
   }
  }
 },
 "nbformat": 4,
 "nbformat_minor": 2
}
