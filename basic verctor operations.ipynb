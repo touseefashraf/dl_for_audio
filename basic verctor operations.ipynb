{
 "cells": [
  {
   "cell_type": "code",
   "execution_count": 5,
   "metadata": {},
   "outputs": [
    {
     "name": "stdout",
     "output_type": "stream",
     "text": [
      "[1, 5, 4, 8, 9, 9, 5, 5]\n"
     ]
    }
   ],
   "source": [
    "# this is a list we cant do vectors operation on it \n",
    "a=[1,5,4,8,9,9,5,5]\n",
    "print(a)"
   ]
  },
  {
   "cell_type": "code",
   "execution_count": 10,
   "metadata": {},
   "outputs": [
    {
     "ename": "TypeError",
     "evalue": "can only concatenate list (not \"int\") to list",
     "output_type": "error",
     "traceback": [
      "\u001b[1;31m---------------------------------------------------------------------------\u001b[0m",
      "\u001b[1;31mTypeError\u001b[0m                                 Traceback (most recent call last)",
      "\u001b[1;32m~\\AppData\\Local\\Temp/ipykernel_7672/2590941152.py\u001b[0m in \u001b[0;36m<module>\u001b[1;34m\u001b[0m\n\u001b[1;32m----> 1\u001b[1;33m \u001b[0mb\u001b[0m\u001b[1;33m=\u001b[0m\u001b[0ma\u001b[0m\u001b[1;33m+\u001b[0m\u001b[1;36m2\u001b[0m\u001b[1;33m\u001b[0m\u001b[1;33m\u001b[0m\u001b[0m\n\u001b[0m\u001b[0;32m      2\u001b[0m \u001b[0mb\u001b[0m\u001b[1;33m=\u001b[0m\u001b[0ma\u001b[0m\u001b[1;33m+\u001b[0m\u001b[1;33m[\u001b[0m\u001b[1;36m2\u001b[0m\u001b[1;33m]\u001b[0m\u001b[1;33m\u001b[0m\u001b[1;33m\u001b[0m\u001b[0m\n\u001b[0;32m      3\u001b[0m \u001b[0mprint\u001b[0m\u001b[1;33m(\u001b[0m\u001b[0mb\u001b[0m\u001b[1;33m)\u001b[0m\u001b[1;33m\u001b[0m\u001b[1;33m\u001b[0m\u001b[0m\n",
      "\u001b[1;31mTypeError\u001b[0m: can only concatenate list (not \"int\") to list"
     ]
    }
   ],
   "source": [
    "# b=a+2\n",
    "b=a+[2]\n",
    "print(b)"
   ]
  },
  {
   "cell_type": "code",
   "execution_count": 2,
   "metadata": {},
   "outputs": [],
   "source": [
    "import numpy as np"
   ]
  },
  {
   "cell_type": "code",
   "execution_count": 13,
   "metadata": {},
   "outputs": [
    {
     "name": "stdout",
     "output_type": "stream",
     "text": [
      "[1 5 4 8 9 9 5 5]\n",
      "(8,)\n",
      "[ 3  7  6 10 11 11  7  7]\n"
     ]
    }
   ],
   "source": [
    "# np.array convert it into a vector now we can perform vector operations on it. \n",
    "\n",
    "b=np.array(a)\n",
    "print(b)\n",
    "# this is a one diminsional array \n",
    "print(np.shape(b))\n",
    "# it will add 2 to all elements \n",
    "print(b+2)"
   ]
  },
  {
   "cell_type": "code",
   "execution_count": 22,
   "metadata": {},
   "outputs": [
    {
     "name": "stdout",
     "output_type": "stream",
     "text": [
      "(3,)\n",
      "0.45000000000000007\n",
      "0.610639233949222\n"
     ]
    }
   ],
   "source": [
    "# now same operation we did in first neuron with for loop we will do it with vector lot ease and efficient way \n",
    "inputs=np.array([.5,.3,.2])\n",
    "weights=np.array([.4,.7,.2])\n",
    "print(np.shape(inputs))\n",
    "output=np.dot(inputs,weights)\n",
    "print(output)\n",
    "sig_activ=1/(1+np.exp(-output))\n",
    "print(sig_activ)"
   ]
  },
  {
   "cell_type": "code",
   "execution_count": 35,
   "metadata": {},
   "outputs": [
    {
     "name": "stdout",
     "output_type": "stream",
     "text": [
      "[[1 5]\n",
      " [7 8]]\n",
      "(2, 2)\n",
      "8\n",
      "[[8]]\n",
      "[[1]\n",
      " [5]\n",
      " [7]\n",
      " [8]]\n",
      "[[1 5 7 8]]\n"
     ]
    }
   ],
   "source": [
    "a=np.array([[1,5],[7,8]])\n",
    "print(a)\n",
    "print(np.shape(a))\n",
    "# now this is like a matrix \n",
    "# it we want to read 3rd element of 1st row \n",
    "print(a[1,1])\n",
    "c=a[1:,1:]\n",
    "print(c)\n",
    "b=np.reshape(a,(4,1))\n",
    "d=b.T\n",
    "print(b)\n",
    "print(d)"
   ]
  },
  {
   "cell_type": "code",
   "execution_count": 3,
   "metadata": {},
   "outputs": [],
   "source": [
    "a=np.array([[1,5,7,8]])"
   ]
  }
 ],
 "metadata": {
  "kernelspec": {
   "display_name": "Python 3.9.7 ('base')",
   "language": "python",
   "name": "python3"
  },
  "language_info": {
   "codemirror_mode": {
    "name": "ipython",
    "version": 3
   },
   "file_extension": ".py",
   "mimetype": "text/x-python",
   "name": "python",
   "nbconvert_exporter": "python",
   "pygments_lexer": "ipython3",
   "version": "3.9.7"
  },
  "orig_nbformat": 4,
  "vscode": {
   "interpreter": {
    "hash": "f476137129a4ee39a73b80c59a9237aa20e64db14d61128bca8a8bdd34cac0da"
   }
  }
 },
 "nbformat": 4,
 "nbformat_minor": 2
}
