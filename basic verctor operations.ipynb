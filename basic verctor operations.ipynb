{
 "cells": [
  {
   "cell_type": "code",
   "execution_count": 1,
   "metadata": {},
   "outputs": [
    {
     "name": "stdout",
     "output_type": "stream",
     "text": [
      "[1, 5, 4, 8, 9, 9, 5, 5]\n"
     ]
    }
   ],
   "source": [
    "# this is a list we cant do vectors operation on it \n",
    "a=[1,5,4,8,9,9,5,5]\n",
    "print(a)"
   ]
  },
  {
   "cell_type": "code",
   "execution_count": 2,
   "metadata": {},
   "outputs": [
    {
     "name": "stdout",
     "output_type": "stream",
     "text": [
      "[1, 5, 4, 8, 9, 9, 5, 5, 2]\n"
     ]
    }
   ],
   "source": [
    "# b=a+2\n",
    "b=a+[2]\n",
    "\n",
    "print(b)"
   ]
  },
  {
   "cell_type": "code",
   "execution_count": 3,
   "metadata": {},
   "outputs": [],
   "source": [
    "import numpy as np"
   ]
  },
  {
   "cell_type": "code",
   "execution_count": 4,
   "metadata": {},
   "outputs": [
    {
     "name": "stdout",
     "output_type": "stream",
     "text": [
      "[1 5 4 8 9 9 5 5]\n",
      "(8,)\n",
      "[ 3  7  6 10 11 11  7  7]\n"
     ]
    }
   ],
   "source": [
    "# np.array convert it into a vector now we can perform vector operations on it. \n",
    "\n",
    "b=np.array(a)\n",
    "print(b)\n",
    "# this is a one diminsional array \n",
    "print(np.shape(b))\n",
    "# it will add 2 to all elements \n",
    "print(b+2)"
   ]
  },
  {
   "cell_type": "code",
   "execution_count": 5,
   "metadata": {},
   "outputs": [
    {
     "name": "stdout",
     "output_type": "stream",
     "text": [
      "(3,)\n",
      "0.45000000000000007\n",
      "0.610639233949222\n"
     ]
    }
   ],
   "source": [
    "# now same operation we did in first neuron with for loop we will do it with vector lot ease and efficient way \n",
    "inputs=np.array([.5,.3,.2])\n",
    "weights=np.array([.4,.7,.2])\n",
    "print(np.shape(inputs))\n",
    "output=np.dot(inputs,weights)\n",
    "print(output)\n",
    "sig_activ=1/(1+np.exp(-output))\n",
    "print(sig_activ)"
   ]
  },
  {
   "cell_type": "code",
   "execution_count": 6,
   "metadata": {},
   "outputs": [
    {
     "name": "stdout",
     "output_type": "stream",
     "text": [
      "[[1 5]\n",
      " [7 8]]\n",
      "(2, 2)\n",
      "8\n",
      "[[8]]\n",
      "[[1]\n",
      " [5]\n",
      " [7]\n",
      " [8]]\n",
      "[[1 5 7 8]]\n"
     ]
    }
   ],
   "source": [
    "a=np.array([[1,5],[7,8]])\n",
    "print(a)\n",
    "print(np.shape(a))\n",
    "# now this is like a matrix \n",
    "# it we want to read 3rd element of 1st row \n",
    "print(a[1,1])\n",
    "c=a[1:,1:]\n",
    "print(c)\n",
    "b=np.reshape(a,(4,1))\n",
    "d=b.T\n",
    "print(b)\n",
    "print(d)"
   ]
  },
  {
   "cell_type": "code",
   "execution_count": 7,
   "metadata": {},
   "outputs": [],
   "source": [
    "a=np.array([[1,5,7,8]])"
   ]
  },
  {
   "cell_type": "code",
   "execution_count": 8,
   "metadata": {},
   "outputs": [
    {
     "name": "stdout",
     "output_type": "stream",
     "text": [
      "[[0.02503658 0.14286111 0.80496073 0.01395331]\n",
      " [0.71534124 0.02770233 0.60652134 0.83416502]\n",
      " [0.34728556 0.63264344 0.56069236 0.55888208]]\n",
      "[[0.53 0.07 0.71 0.69]\n",
      " [0.38 0.66 0.16 0.04]\n",
      " [0.68 0.42 0.36 0.55]]\n",
      "[[7 4 2 8 7]\n",
      " [0 2 0 4 6]\n",
      " [9 2 8 6 0]\n",
      " [8 7 9 2 0]]\n"
     ]
    }
   ],
   "source": [
    "# give us random values of given size \n",
    "a=np.random.rand(3,4)\n",
    "print(a)\n",
    "# give us random values of given size and round it to decimal\n",
    "a=np.round(np.random.rand(3,4),2)\n",
    "print(a)\n",
    "\n",
    "# give us random values of integers from range of 0 to 10, size 4 row 5 col\n",
    "a=np.random.randint(0,10,size=(4,5))\n",
    "\n",
    "print(a)"
   ]
  },
  {
   "cell_type": "code",
   "execution_count": 9,
   "metadata": {},
   "outputs": [
    {
     "name": "stdout",
     "output_type": "stream",
     "text": [
      "[[False False]\n",
      " [False False]\n",
      " [False False]\n",
      " [False False]\n",
      " [False False]]\n",
      "[0. 0. 0. 0. 0. 0. 0. 0. 0. 0. 0. 0. 0. 0. 0. 0. 0. 0. 0. 0.]\n",
      "[0 0 0 0 0 0 0 0 0 0 0 0 0 0 0 0 0 0 0 0]\n"
     ]
    }
   ],
   "source": [
    "a=np.zeros((5,2),dtype=bool)\n",
    "print(a)\n",
    "\n",
    "a=np.zeros(20)\n",
    "print(a)\n",
    "\n",
    "a=np.zeros(20, dtype=int)\n",
    "print(a)"
   ]
  },
  {
   "cell_type": "code",
   "execution_count": 10,
   "metadata": {},
   "outputs": [
    {
     "name": "stdout",
     "output_type": "stream",
     "text": [
      "(4,)\n",
      "<class 'numpy.ndarray'>\n",
      "(4,)\n",
      "146\n",
      "146\n",
      "<class 'numpy.ndarray'>\n",
      "[[0.7299 0.7819 0.2603 1.1543]\n",
      " [0.9625 0.8173 0.5648 0.6713]\n",
      " [0.6939 0.5719 0.1029 0.7363]\n",
      " [1.5086 1.312  0.3696 1.6576]]\n",
      "[[0.7299 0.7819 0.2603 1.1543]\n",
      " [0.9625 0.8173 0.5648 0.6713]\n",
      " [0.6939 0.5719 0.1029 0.7363]\n",
      " [1.5086 1.312  0.3696 1.6576]]\n",
      "[[[0.2242302  0.67648835]\n",
      "  [0.28900462 0.57579217]\n",
      "  [0.99302347 0.72548913]\n",
      "  [0.88496892 0.56978818]]\n",
      "\n",
      " [[0.64944478 0.81344174]\n",
      "  [0.2015431  0.7096145 ]\n",
      "  [0.69331815 0.94213354]\n",
      "  [0.51888525 0.58209523]]\n",
      "\n",
      " [[0.56145175 0.16206693]\n",
      "  [0.15858899 0.07329705]\n",
      "  [0.67459532 0.69889984]\n",
      "  [0.890979   0.68784999]]]\n"
     ]
    }
   ],
   "source": [
    "\n",
    "\n",
    "a = np.array([9, 5, 7, 4])\n",
    "c = np.array([9, 5, 4, 3])\n",
    "\n",
    "print(np.shape(a))\n",
    "print(type(a))\n",
    "print(np.shape(c))\n",
    "print(np.dot(a, c))\n",
    "\n",
    "# using matmul we are doing matrix multiplication \n",
    "print(np.matmul(a.T, c))\n",
    "\n",
    "a=np.round(np.random.rand(3,4),2)\n",
    "print(type(a))\n",
    "b=np.round(np.random.rand(3,4),2)\n",
    "\n",
    "print(np.dot(a.T,b))\n",
    "print(np.matmul(a.T,b))\n",
    "\n",
    "a = np.random.rand(3,4,2)\n",
    "print(a)\n",
    "\n",
    "\n",
    "\n"
   ]
  },
  {
   "cell_type": "code",
   "execution_count": 11,
   "metadata": {},
   "outputs": [
    {
     "name": "stdout",
     "output_type": "stream",
     "text": [
      "[ 0.  2.  4.  6.  8. 10. 12. 14. 16. 18. 20. 22. 24. 26. 28. 30. 32. 34.\n",
      " 36. 38. 40. 42. 44. 46. 48. 50.]\n",
      "[ 1.  3.  5.  7.  9. 11. 13. 15. 17. 19. 21. 23. 25. 27. 29. 31. 33. 35.\n",
      " 37. 39. 41. 43. 45. 47. 49.]\n",
      "[ 0.  1.  2.  3.  4.  5.  6.  7.  8.  9. 10. 11. 12. 13. 14. 15. 16. 17.\n",
      " 18. 19. 20. 21. 22. 23. 24. 25. 26. 27. 28. 29. 30. 31. 32. 33. 34. 35.\n",
      " 36. 37. 38. 39. 40. 41. 42. 43. 44. 45. 46. 47. 48. 49. 50.]\n"
     ]
    }
   ],
   "source": [
    "a=np.linspace(0,50,num=51)\n",
    "b=np.zeros(51)\n",
    "\n",
    "c=a[::2]\n",
    "d=a[1::2]\n",
    "print(c)\n",
    "print(d)\n",
    "\n",
    "e=np.zeros(np.shape(a))\n",
    "e[::2]=c\n",
    "e[1::2]=d\n",
    "\n",
    "print(e)"
   ]
  },
  {
   "cell_type": "code",
   "execution_count": 19,
   "metadata": {},
   "outputs": [
    {
     "name": "stdout",
     "output_type": "stream",
     "text": [
      "5\n",
      "8\n",
      "3\n",
      "7\n",
      "5\n",
      "4\n",
      "5\n",
      "8\n",
      "8\n",
      "5\n"
     ]
    }
   ],
   "source": [
    "a=np.array([5,8,3,7,5,4,5,8,8,5])\n",
    "for i in a:\n",
    "    print(i)"
   ]
  },
  {
   "cell_type": "code",
   "execution_count": 22,
   "metadata": {},
   "outputs": [
    {
     "name": "stdout",
     "output_type": "stream",
     "text": [
      "(0,) 5\n",
      "(1,) 8\n",
      "(2,) 3\n",
      "(3,) 7\n",
      "(4,) 5\n",
      "(5,) 4\n",
      "(6,) 5\n",
      "(7,) 8\n",
      "(8,) 8\n",
      "(9,) 5\n"
     ]
    }
   ],
   "source": [
    "a=np.array([5,8,3,7,5,4,5,8,8,5])\n",
    "for idx,v in np.ndenumerate(a):\n",
    "    print(idx,v)\n"
   ]
  },
  {
   "cell_type": "code",
   "execution_count": 23,
   "metadata": {},
   "outputs": [
    {
     "name": "stdout",
     "output_type": "stream",
     "text": [
      "(0, 0) 5\n",
      "(0, 1) 8\n",
      "(0, 2) 3\n",
      "(1, 0) 5\n",
      "(1, 1) 7\n",
      "(1, 2) 6\n"
     ]
    }
   ],
   "source": [
    "a=np.array([[5,8,3],[5,7,6]])\n",
    "for idx,v in np.ndenumerate(a):\n",
    "    print(idx,v)"
   ]
  },
  {
   "cell_type": "code",
   "execution_count": 26,
   "metadata": {},
   "outputs": [
    {
     "name": "stdout",
     "output_type": "stream",
     "text": [
      "[5 8 3]\n",
      "[5 7 6]\n"
     ]
    }
   ],
   "source": [
    "a=np.array([[5,8,3],[5,7,6]])\n",
    "for v in a:\n",
    "    print(v)"
   ]
  },
  {
   "cell_type": "code",
   "execution_count": 27,
   "metadata": {},
   "outputs": [
    {
     "name": "stdout",
     "output_type": "stream",
     "text": [
      "5\n",
      "8\n",
      "3\n",
      "5\n",
      "7\n",
      "6\n"
     ]
    }
   ],
   "source": [
    "a=np.array([[5,8,3],[5,7,6]])\n",
    "for r in a:\n",
    "    for v in r:\n",
    "        print(v)"
   ]
  },
  {
   "cell_type": "code",
   "execution_count": 28,
   "metadata": {},
   "outputs": [
    {
     "name": "stdout",
     "output_type": "stream",
     "text": [
      "5\n",
      "8\n",
      "3\n",
      "5\n",
      "7\n",
      "6\n"
     ]
    }
   ],
   "source": [
    "a=np.array([[5,8,3],[5,7,6]])\n",
    "for v in a.flatten():\n",
    "    print(v)"
   ]
  }
 ],
 "metadata": {
  "kernelspec": {
   "display_name": "Python 3.9.7 ('base')",
   "language": "python",
   "name": "python3"
  },
  "language_info": {
   "codemirror_mode": {
    "name": "ipython",
    "version": 3
   },
   "file_extension": ".py",
   "mimetype": "text/x-python",
   "name": "python",
   "nbconvert_exporter": "python",
   "pygments_lexer": "ipython3",
   "version": "3.9.7"
  },
  "orig_nbformat": 4,
  "vscode": {
   "interpreter": {
    "hash": "f476137129a4ee39a73b80c59a9237aa20e64db14d61128bca8a8bdd34cac0da"
   }
  }
 },
 "nbformat": 4,
 "nbformat_minor": 2
}
